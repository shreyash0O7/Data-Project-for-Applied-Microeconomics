{
 "cells": [
  {
   "cell_type": "markdown",
   "metadata": {},
   "source": [
    "# First feedback from Abby\n",
    "\n",
    "What I can look at is how did the preferences of the generes for movies changed before and after the pandemic.\n",
    "\n",
    "I can look at x years previous of Covid and x years after Covid when the theatres were open. So drop all the movies that were launched during covid.\n",
    "\n",
    "Then do the analysis."
   ]
  },
  {
   "cell_type": "code",
   "execution_count": null,
   "metadata": {},
   "outputs": [],
   "source": []
  }
 ],
 "metadata": {
  "language_info": {
   "name": "python"
  }
 },
 "nbformat": 4,
 "nbformat_minor": 2
}
